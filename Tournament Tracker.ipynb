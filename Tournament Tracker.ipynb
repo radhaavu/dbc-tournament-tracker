{
 "cells": [
  {
   "cell_type": "markdown",
   "metadata": {},
   "source": [
    "Pseudocode:\n",
    "1. Ask user for number of participents\n",
    "2. Created a list with header row and list numbers for of number of participants\n",
    "3. Create blank dictionary with roster\n",
    "    + keys as list, values set initially to \"empty\"\n",
    "4. Display Menu with Options\n",
    "    1. Add Participant\n",
    "    2. Remove Participant\n",
    "    3. View Participants\n",
    "    4. Exit\n",
    "    **(more will be added for stretch goals)\n",
    "5. Ask user to input option number they want to accomplish \n",
    "6. For Add Participant\n",
    "    - display message\n",
    "    - ask for a name from user\n",
    "    - ask for starting slot\n",
    "    - check to see if starting slot is number (with try except)\n",
    "        + display error message to ask user to reenter\n",
    "    - check to see if number is in range\n",
    "        + ask the user for another number if it isnt in range\n",
    "    - add participant name to corresponding starting slot to roster dictionary\n",
    "7. For Remove Participant\n",
    "    - display message\n",
    "    - ask for a name from user\n",
    "    - ask for slotting slot\n",
    "    - check to see if starting slot is number (with try catch)\n",
    "        + display error message to ask user to reenter\n",
    "    - check to see if number is in range\n",
    "        + ask the user for another number if it isnt in range\n",
    "    - check to see if name and slot number match on dictionary\n",
    "        + if doesnt match, reopt for another number and name\n",
    "        + if matches remove name for starting slot number\n",
    "8. For View Participants\n",
    "    - print roster dictionary\n",
    "9. For Exit\n",
    "    - Display message with \"are you sure you want to exit\"\n",
    "    - check to make sure user entered yes or no\n",
    "        + ask for another answer if not yes or no\n",
    "    - remove dictionary\n",
    "    - remove list of roster numbers"
   ]
  }
 ],
 "metadata": {
  "kernelspec": {
   "display_name": "Python 3",
   "language": "python",
   "name": "python3"
  },
  "language_info": {
   "codemirror_mode": {
    "name": "ipython",
    "version": 3
   },
   "file_extension": ".py",
   "mimetype": "text/x-python",
   "name": "python",
   "nbconvert_exporter": "python",
   "pygments_lexer": "ipython3",
   "version": "3.8.5"
  }
 },
 "nbformat": 4,
 "nbformat_minor": 4
}
